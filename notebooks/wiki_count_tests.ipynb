{
 "cells": [
  {
   "cell_type": "code",
   "execution_count": 50,
   "metadata": {},
   "outputs": [],
   "source": [
    "import pandas as pd \n",
    "import numpy as np\n",
    "import wikipedia\n",
    "import re"
   ]
  },
  {
   "cell_type": "code",
   "execution_count": 190,
   "metadata": {},
   "outputs": [],
   "source": [
    "data = []\n",
    "def get_count_base(word):\n",
    "    word_strip = word.strip()\n",
    "    test = wikipedia.page(word_strip)\n",
    "    summary = wikipedia.summary(word_sort)\n",
    "    count = len(test.content.split(' '))\n",
    "    data.append([word,count,summary])\n",
    "    return len(test.content.split(' '))\n",
    "\n",
    "def get_count_abc(word):\n",
    "    word_strip = word.strip()\n",
    "    word_cleaned = re.sub(r'[^a-zA-Z 0-9]', '', word_strip)\n",
    "    word_gene = word_cleaned+'gene'\n",
    "    test = wikipedia.page(word_gene)\n",
    "    summary = wikipedia.summary(word_gene)\n",
    "    count = len(test.content.split(' '))\n",
    "    data.append([word,count,summary])\n",
    "    return len(test.content.split(' '))\n",
    "\n",
    "\n",
    "def get_count_word(word):\n",
    "    word_strip = word.strip()\n",
    "    word_cleaned = re.sub(r'[^a-zA-Z 0-9]', '', word_strip)\n",
    "    test = wikipedia.page(word_cleaned)\n",
    "    summary = wikipedia.summary(word_cleaned)\n",
    "    count = len(test.content.split(' '))\n",
    "    data.append([word,count,summary])\n",
    "    return len(test.content.split(' '))\n",
    "\n"
   ]
  },
  {
   "cell_type": "code",
   "execution_count": 191,
   "metadata": {},
   "outputs": [
    {
     "data": {
      "text/plain": [
       "831"
      ]
     },
     "execution_count": 191,
     "metadata": {},
     "output_type": "execute_result"
    }
   ],
   "source": [
    "get_count_abc('ccl2')"
   ]
  },
  {
   "cell_type": "code",
   "execution_count": 192,
   "metadata": {},
   "outputs": [
    {
     "name": "stdout",
     "output_type": "stream",
     "text": [
      "831\n",
      "452\n"
     ]
    },
    {
     "name": "stderr",
     "output_type": "stream",
     "text": [
      "/home/terrence/anaconda3/envs/unit4sprint2/lib/python3.7/site-packages/wikipedia/wikipedia.py:389: GuessedAtParserWarning: No parser was explicitly specified, so I'm using the best available HTML parser for this system (\"lxml\"). This usually isn't a problem, but if you run this code on another system, or in a different virtual environment, it may use a different parser and behave differently.\n",
      "\n",
      "The code that caused this warning is on line 389 of the file /home/terrence/anaconda3/envs/unit4sprint2/lib/python3.7/site-packages/wikipedia/wikipedia.py. To get rid of this warning, pass the additional argument 'features=\"lxml\"' to the BeautifulSoup constructor.\n",
      "\n",
      "  lis = BeautifulSoup(html).find_all('li')\n"
     ]
    },
    {
     "name": "stdout",
     "output_type": "stream",
     "text": [
      "MBP is bad input\n",
      "1088\n",
      "33\n",
      "711\n"
     ]
    }
   ],
   "source": [
    "gene = ['ccl2','trem2','MBP','Myelin basic protein','mib2','RIG-I']\n",
    "my_data = []\n",
    "for i in gene:\n",
    "    try:\n",
    "        print(get_count_abc(i))\n",
    "    except:\n",
    "        try:\n",
    "            print(get_count_base(i))\n",
    "        except:\n",
    "            try:\n",
    "                print(get_count_word(i))\n",
    "            except:\n",
    "                print(f'{i} is bad input')"
   ]
  },
  {
   "cell_type": "code",
   "execution_count": 186,
   "metadata": {},
   "outputs": [
    {
     "name": "stdout",
     "output_type": "stream",
     "text": [
      "1037\n"
     ]
    }
   ],
   "source": [
    "txt = wikipedia.page('RIG-I')\n",
    "print(len(txt.content.split(' ')))"
   ]
  },
  {
   "cell_type": "code",
   "execution_count": 189,
   "metadata": {},
   "outputs": [
    {
     "data": {
      "text/html": [
       "<div>\n",
       "<style scoped>\n",
       "    .dataframe tbody tr th:only-of-type {\n",
       "        vertical-align: middle;\n",
       "    }\n",
       "\n",
       "    .dataframe tbody tr th {\n",
       "        vertical-align: top;\n",
       "    }\n",
       "\n",
       "    .dataframe thead th {\n",
       "        text-align: right;\n",
       "    }\n",
       "</style>\n",
       "<table border=\"1\" class=\"dataframe\">\n",
       "  <thead>\n",
       "    <tr style=\"text-align: right;\">\n",
       "      <th></th>\n",
       "      <th>word</th>\n",
       "      <th>word_count</th>\n",
       "      <th>summary</th>\n",
       "    </tr>\n",
       "  </thead>\n",
       "  <tbody>\n",
       "    <tr>\n",
       "      <th>0</th>\n",
       "      <td>ccl2</td>\n",
       "      <td>5663</td>\n",
       "      <td>For the ICAO airport code see Candle Lake Airp...</td>\n",
       "    </tr>\n",
       "    <tr>\n",
       "      <th>1</th>\n",
       "      <td>trem2</td>\n",
       "      <td>3321</td>\n",
       "      <td>Triggering receptor expressed on myeloid cells...</td>\n",
       "    </tr>\n",
       "    <tr>\n",
       "      <th>2</th>\n",
       "      <td>Myelin basic protein</td>\n",
       "      <td>7199</td>\n",
       "      <td>Myelin basic protein (MBP) is a protein believ...</td>\n",
       "    </tr>\n",
       "    <tr>\n",
       "      <th>3</th>\n",
       "      <td>mib2</td>\n",
       "      <td>213</td>\n",
       "      <td>E3 ubiquitin-protein ligase MIB2 is an enzyme ...</td>\n",
       "    </tr>\n",
       "    <tr>\n",
       "      <th>4</th>\n",
       "      <td>RIG-I</td>\n",
       "      <td>6754</td>\n",
       "      <td>RIG-I (retinoic acid-inducible gene I) is a cy...</td>\n",
       "    </tr>\n",
       "    <tr>\n",
       "      <th>5</th>\n",
       "      <td>ccl2</td>\n",
       "      <td>5663</td>\n",
       "      <td>For the ICAO airport code see Candle Lake Airp...</td>\n",
       "    </tr>\n",
       "    <tr>\n",
       "      <th>6</th>\n",
       "      <td>trem2</td>\n",
       "      <td>3321</td>\n",
       "      <td>Triggering receptor expressed on myeloid cells...</td>\n",
       "    </tr>\n",
       "    <tr>\n",
       "      <th>7</th>\n",
       "      <td>Myelin basic protein</td>\n",
       "      <td>7199</td>\n",
       "      <td>Myelin basic protein (MBP) is a protein believ...</td>\n",
       "    </tr>\n",
       "    <tr>\n",
       "      <th>8</th>\n",
       "      <td>mib2</td>\n",
       "      <td>213</td>\n",
       "      <td>E3 ubiquitin-protein ligase MIB2 is an enzyme ...</td>\n",
       "    </tr>\n",
       "    <tr>\n",
       "      <th>9</th>\n",
       "      <td>RIG-I</td>\n",
       "      <td>6754</td>\n",
       "      <td>RIG-I (retinoic acid-inducible gene I) is a cy...</td>\n",
       "    </tr>\n",
       "  </tbody>\n",
       "</table>\n",
       "</div>"
      ],
      "text/plain": [
       "                   word  word_count  \\\n",
       "0                  ccl2        5663   \n",
       "1                 trem2        3321   \n",
       "2  Myelin basic protein        7199   \n",
       "3                  mib2         213   \n",
       "4                 RIG-I        6754   \n",
       "5                  ccl2        5663   \n",
       "6                 trem2        3321   \n",
       "7  Myelin basic protein        7199   \n",
       "8                  mib2         213   \n",
       "9                 RIG-I        6754   \n",
       "\n",
       "                                             summary  \n",
       "0  For the ICAO airport code see Candle Lake Airp...  \n",
       "1  Triggering receptor expressed on myeloid cells...  \n",
       "2  Myelin basic protein (MBP) is a protein believ...  \n",
       "3  E3 ubiquitin-protein ligase MIB2 is an enzyme ...  \n",
       "4  RIG-I (retinoic acid-inducible gene I) is a cy...  \n",
       "5  For the ICAO airport code see Candle Lake Airp...  \n",
       "6  Triggering receptor expressed on myeloid cells...  \n",
       "7  Myelin basic protein (MBP) is a protein believ...  \n",
       "8  E3 ubiquitin-protein ligase MIB2 is an enzyme ...  \n",
       "9  RIG-I (retinoic acid-inducible gene I) is a cy...  "
      ]
     },
     "execution_count": 189,
     "metadata": {},
     "output_type": "execute_result"
    }
   ],
   "source": [
    "df = pd.DataFrame(data)\n",
    "df.columns=['word','word_count','summary']\n",
    "df"
   ]
  },
  {
   "cell_type": "code",
   "execution_count": 167,
   "metadata": {},
   "outputs": [
    {
     "name": "stdout",
     "output_type": "stream",
     "text": [
      "6754\n"
     ]
    }
   ],
   "source": [
    "txt = wikipedia.page('RIG-I')\n",
    "print(len(txt.content))"
   ]
  },
  {
   "cell_type": "code",
   "execution_count": 112,
   "metadata": {},
   "outputs": [
    {
     "data": {
      "text/plain": [
       "7199"
      ]
     },
     "execution_count": 112,
     "metadata": {},
     "output_type": "execute_result"
    }
   ],
   "source": [
    "get_content('Myelin basic protein')"
   ]
  },
  {
   "cell_type": "code",
   "execution_count": 113,
   "metadata": {},
   "outputs": [
    {
     "data": {
      "text/plain": [
       "3321"
      ]
     },
     "execution_count": 113,
     "metadata": {},
     "output_type": "execute_result"
    }
   ],
   "source": [
    "get_content('trem2')"
   ]
  },
  {
   "cell_type": "code",
   "execution_count": 117,
   "metadata": {},
   "outputs": [
    {
     "name": "stdout",
     "output_type": "stream",
     "text": [
      "Triggering receptor expressed on myeloid cells 2 also known as TREM-2 is a protein that in humans is encoded by the TREM2 gene.\n",
      "\n",
      "\n"
     ]
    }
   ],
   "source": [
    "txt = wikipedia.page('trem2')\n",
    "# print(txt.content)\n",
    "print(txt.summary)"
   ]
  },
  {
   "cell_type": "code",
   "execution_count": 185,
   "metadata": {},
   "outputs": [
    {
     "data": {
      "text/plain": [
       "3"
      ]
     },
     "execution_count": 185,
     "metadata": {},
     "output_type": "execute_result"
    }
   ],
   "source": [
    "test = \"one two three\"\n",
    "len(test.split(' '))"
   ]
  }
 ],
 "metadata": {
  "kernelspec": {
   "display_name": "unit4sprint2",
   "language": "python",
   "name": "unit4sprint2"
  },
  "language_info": {
   "codemirror_mode": {
    "name": "ipython",
    "version": 3
   },
   "file_extension": ".py",
   "mimetype": "text/x-python",
   "name": "python",
   "nbconvert_exporter": "python",
   "pygments_lexer": "ipython3",
   "version": "3.7.0"
  }
 },
 "nbformat": 4,
 "nbformat_minor": 4
}
