{
 "cells": [
  {
   "cell_type": "code",
   "execution_count": 1,
   "metadata": {},
   "outputs": [],
   "source": [
    "import pandas as pd \n",
    "import numpy as np\n",
    "import wikipedia\n",
    "import re"
   ]
  },
  {
   "cell_type": "code",
   "execution_count": 11,
   "metadata": {},
   "outputs": [],
   "source": [
    "data = []\n",
    "def get_count_base(word):\n",
    "    word_strip = word.strip()\n",
    "    test = wikipedia.page(word_strip)\n",
    "    summary = wikipedia.summary(word_strip)\n",
    "    count = len(test.content.split(' '))\n",
    "    data.append([word,count,summary])\n",
    "#     return data.append([word,count,summary])\n",
    "\n",
    "def get_count_abc(word):\n",
    "    word_strip = word.strip()\n",
    "    word_cleaned = re.sub(r'[^a-zA-Z 0-9]', '', word_strip)\n",
    "    word_gene = word_cleaned+'gene'\n",
    "    test = wikipedia.page(word_gene)\n",
    "    summary = wikipedia.summary(word_gene)\n",
    "    count = len(test.content.split(' '))\n",
    "    data.append([word,count,summary])\n",
    "#     return len(test.content.split(' '))\n",
    "\n",
    "\n",
    "def get_count_word(word):\n",
    "    word_strip = word.strip()\n",
    "    word_cleaned = re.sub(r'[^a-zA-Z 0-9]', '', word_strip)\n",
    "    test = wikipedia.page(word_cleaned)\n",
    "    summary = wikipedia.summary(word_cleaned)\n",
    "    count = len(test.content.split(' '))\n",
    "    data.append([word,count,summary])\n",
    "#     return len(test.content.split(' '))\n",
    "\n"
   ]
  },
  {
   "cell_type": "code",
   "execution_count": 14,
   "metadata": {},
   "outputs": [
    {
     "data": {
      "text/plain": [
       "[['Myelin basic protein',\n",
       "  1088,\n",
       "  'Myelin basic protein (MBP) is a protein believed to be important in the process of myelination of nerves in the nervous system. The myelin sheath is a multi-layered membrane, unique to the nervous system, that functions as an insulator to greatly increase the velocity of axonal impulse conduction. MBP  maintains the correct structure of myelin, interacting with the lipids in the myelin membrane.MBP was initially sequenced in 1971 after isolation from bovine myelin membranes. MBP knockout mice called shiverer mice were subsequently developed and characterized in the early 1980s. Shiverer mice exhibit decreased amounts of CNS myelination and a progressive disorder characterized by tremors, seizures, and early death. The human gene for MBP is on chromosome 18; the protein localizes to the CNS and to various cells of the hematopoietic lineage.\\nThe pool of MBP in the central nervous system is very diverse, with several splice variants being expressed and a large number of post-translational modifications on the protein, which include phosphorylation, methylation, deamidation, and citrullination. These forms differ by the presence or the absence of short (10 to 20 residues) peptides in various internal locations in the sequence. In general, the major form of MBP is a protein of about 18.5 Kd (170 residues).\\nIn melanocytic cell types, MBP gene expression may be regulated by MITF.'],\n",
       " ['Myelin basic protein',\n",
       "  1088,\n",
       "  'Myelin basic protein (MBP) is a protein believed to be important in the process of myelination of nerves in the nervous system. The myelin sheath is a multi-layered membrane, unique to the nervous system, that functions as an insulator to greatly increase the velocity of axonal impulse conduction. MBP  maintains the correct structure of myelin, interacting with the lipids in the myelin membrane.MBP was initially sequenced in 1971 after isolation from bovine myelin membranes. MBP knockout mice called shiverer mice were subsequently developed and characterized in the early 1980s. Shiverer mice exhibit decreased amounts of CNS myelination and a progressive disorder characterized by tremors, seizures, and early death. The human gene for MBP is on chromosome 18; the protein localizes to the CNS and to various cells of the hematopoietic lineage.\\nThe pool of MBP in the central nervous system is very diverse, with several splice variants being expressed and a large number of post-translational modifications on the protein, which include phosphorylation, methylation, deamidation, and citrullination. These forms differ by the presence or the absence of short (10 to 20 residues) peptides in various internal locations in the sequence. In general, the major form of MBP is a protein of about 18.5 Kd (170 residues).\\nIn melanocytic cell types, MBP gene expression may be regulated by MITF.'],\n",
       " ['Myelin basic protein',\n",
       "  1088,\n",
       "  'Myelin basic protein (MBP) is a protein believed to be important in the process of myelination of nerves in the nervous system. The myelin sheath is a multi-layered membrane, unique to the nervous system, that functions as an insulator to greatly increase the velocity of axonal impulse conduction. MBP  maintains the correct structure of myelin, interacting with the lipids in the myelin membrane.MBP was initially sequenced in 1971 after isolation from bovine myelin membranes. MBP knockout mice called shiverer mice were subsequently developed and characterized in the early 1980s. Shiverer mice exhibit decreased amounts of CNS myelination and a progressive disorder characterized by tremors, seizures, and early death. The human gene for MBP is on chromosome 18; the protein localizes to the CNS and to various cells of the hematopoietic lineage.\\nThe pool of MBP in the central nervous system is very diverse, with several splice variants being expressed and a large number of post-translational modifications on the protein, which include phosphorylation, methylation, deamidation, and citrullination. These forms differ by the presence or the absence of short (10 to 20 residues) peptides in various internal locations in the sequence. In general, the major form of MBP is a protein of about 18.5 Kd (170 residues).\\nIn melanocytic cell types, MBP gene expression may be regulated by MITF.']]"
      ]
     },
     "execution_count": 14,
     "metadata": {},
     "output_type": "execute_result"
    }
   ],
   "source": [
    "get_count_base('Myelin basic protein')"
   ]
  },
  {
   "cell_type": "code",
   "execution_count": 3,
   "metadata": {},
   "outputs": [
    {
     "data": {
      "text/plain": [
       "831"
      ]
     },
     "execution_count": 3,
     "metadata": {},
     "output_type": "execute_result"
    }
   ],
   "source": [
    "get_count_abc('ccl2')"
   ]
  },
  {
   "cell_type": "code",
   "execution_count": 9,
   "metadata": {},
   "outputs": [
    {
     "name": "stdout",
     "output_type": "stream",
     "text": [
      "831\n",
      "452\n",
      "MBP is bad input\n",
      "1088\n",
      "1858\n",
      "711\n"
     ]
    },
    {
     "data": {
      "text/plain": [
       "[['ccl2',\n",
       "  831,\n",
       "  'For the ICAO airport code see Candle Lake Airpark, for the diradical compound see Dichlorocarbene.\\n\\nThe chemokine (C-C motif) ligand 2 (CCL2) is also referred to as monocyte chemoattractant protein 1 (MCP1) and small inducible cytokine A2. CCL2 is a small cytokine that belongs to the CC chemokine family. CCL2  recruits monocytes, memory T cells, and dendritic cells to the sites of inflammation produced by either tissue injury or infection.'],\n",
       " ['ccl2',\n",
       "  831,\n",
       "  'For the ICAO airport code see Candle Lake Airpark, for the diradical compound see Dichlorocarbene.\\n\\nThe chemokine (C-C motif) ligand 2 (CCL2) is also referred to as monocyte chemoattractant protein 1 (MCP1) and small inducible cytokine A2. CCL2 is a small cytokine that belongs to the CC chemokine family. CCL2  recruits monocytes, memory T cells, and dendritic cells to the sites of inflammation produced by either tissue injury or infection.'],\n",
       " ['trem2',\n",
       "  452,\n",
       "  'Triggering receptor expressed on myeloid cells 2 also known as TREM-2 is a protein that in humans is encoded by the TREM2 gene.'],\n",
       " ['Myelin basic protein',\n",
       "  1088,\n",
       "  'Myelin basic protein (MBP) is a protein believed to be important in the process of myelination of nerves in the nervous system. The myelin sheath is a multi-layered membrane, unique to the nervous system, that functions as an insulator to greatly increase the velocity of axonal impulse conduction. MBP  maintains the correct structure of myelin, interacting with the lipids in the myelin membrane.MBP was initially sequenced in 1971 after isolation from bovine myelin membranes. MBP knockout mice called shiverer mice were subsequently developed and characterized in the early 1980s. Shiverer mice exhibit decreased amounts of CNS myelination and a progressive disorder characterized by tremors, seizures, and early death. The human gene for MBP is on chromosome 18; the protein localizes to the CNS and to various cells of the hematopoietic lineage.\\nThe pool of MBP in the central nervous system is very diverse, with several splice variants being expressed and a large number of post-translational modifications on the protein, which include phosphorylation, methylation, deamidation, and citrullination. These forms differ by the presence or the absence of short (10 to 20 residues) peptides in various internal locations in the sequence. In general, the major form of MBP is a protein of about 18.5 Kd (170 residues).\\nIn melanocytic cell types, MBP gene expression may be regulated by MITF.'],\n",
       " ['mib2',\n",
       "  1858,\n",
       "  'Men in Black II (stylized as MIIB) is a 2002 American science fiction action comedy film directed by Barry Sonnenfeld and written by Robert Gordon and Barry Fanaro. A sequel to Men in Black (1997), which in turn is loosely based on the Marvel Comics series The Men in Black by Lowell Cunningham, the film stars Tommy Lee Jones and Will Smith reprising their roles from the first film, with Lara Flynn Boyle, Johnny Knoxville, Rosario Dawson, Tony Shalhoub and Rip Torn in supporting roles. It was also the final appearance of Torn in the series (although he did make a brief uncredited appearance in Men in Black 3), as he died on July 9, 2019, about a month after MIB International was released.\\nMen in Black II was released worldwide on July 3, 2002, by Columbia Pictures, receiving mixed reviews from critics and grossing $441.8 million against a budget of $140 million. The film was followed by Men in Black 3 in 2012.\\n\\n'],\n",
       " ['RIG-I',\n",
       "  711,\n",
       "  \"The Rigi (or Mount Rigi; also known as Queen of the Mountains) is a mountain massif of the Alps, located in Central Switzerland. The whole massif is almost entirely surrounded by the water of three different bodies of water: Lake Lucerne, Lake Zug and Lake Lauerz. The range is in the Schwyzer Alps, and is split between the cantons of Schwyz and Lucerne, although the main summit, named Rigi Kulm, at 1,798 meters above sea level, lies within the canton of Schwyz.\\nThe Rigi Kulm and other areas, such as the resort of Rigi Kaltbad, are served by Europe's oldest mountain railways, the Rigi Railways. The whole area offers many activities such as skiing or sledging in the winter, and hiking in the summer.\\n\\n\"],\n",
       " ['ccl2',\n",
       "  831,\n",
       "  'For the ICAO airport code see Candle Lake Airpark, for the diradical compound see Dichlorocarbene.\\n\\nThe chemokine (C-C motif) ligand 2 (CCL2) is also referred to as monocyte chemoattractant protein 1 (MCP1) and small inducible cytokine A2. CCL2 is a small cytokine that belongs to the CC chemokine family. CCL2  recruits monocytes, memory T cells, and dendritic cells to the sites of inflammation produced by either tissue injury or infection.'],\n",
       " ['trem2',\n",
       "  452,\n",
       "  'Triggering receptor expressed on myeloid cells 2 also known as TREM-2 is a protein that in humans is encoded by the TREM2 gene.'],\n",
       " ['Myelin basic protein',\n",
       "  1088,\n",
       "  'Myelin basic protein (MBP) is a protein believed to be important in the process of myelination of nerves in the nervous system. The myelin sheath is a multi-layered membrane, unique to the nervous system, that functions as an insulator to greatly increase the velocity of axonal impulse conduction. MBP  maintains the correct structure of myelin, interacting with the lipids in the myelin membrane.MBP was initially sequenced in 1971 after isolation from bovine myelin membranes. MBP knockout mice called shiverer mice were subsequently developed and characterized in the early 1980s. Shiverer mice exhibit decreased amounts of CNS myelination and a progressive disorder characterized by tremors, seizures, and early death. The human gene for MBP is on chromosome 18; the protein localizes to the CNS and to various cells of the hematopoietic lineage.\\nThe pool of MBP in the central nervous system is very diverse, with several splice variants being expressed and a large number of post-translational modifications on the protein, which include phosphorylation, methylation, deamidation, and citrullination. These forms differ by the presence or the absence of short (10 to 20 residues) peptides in various internal locations in the sequence. In general, the major form of MBP is a protein of about 18.5 Kd (170 residues).\\nIn melanocytic cell types, MBP gene expression may be regulated by MITF.'],\n",
       " ['mib2',\n",
       "  1858,\n",
       "  'Men in Black II (stylized as MIIB) is a 2002 American science fiction action comedy film directed by Barry Sonnenfeld and written by Robert Gordon and Barry Fanaro. A sequel to Men in Black (1997), which in turn is loosely based on the Marvel Comics series The Men in Black by Lowell Cunningham, the film stars Tommy Lee Jones and Will Smith reprising their roles from the first film, with Lara Flynn Boyle, Johnny Knoxville, Rosario Dawson, Tony Shalhoub and Rip Torn in supporting roles. It was also the final appearance of Torn in the series (although he did make a brief uncredited appearance in Men in Black 3), as he died on July 9, 2019, about a month after MIB International was released.\\nMen in Black II was released worldwide on July 3, 2002, by Columbia Pictures, receiving mixed reviews from critics and grossing $441.8 million against a budget of $140 million. The film was followed by Men in Black 3 in 2012.\\n\\n'],\n",
       " ['RIG-I',\n",
       "  711,\n",
       "  \"The Rigi (or Mount Rigi; also known as Queen of the Mountains) is a mountain massif of the Alps, located in Central Switzerland. The whole massif is almost entirely surrounded by the water of three different bodies of water: Lake Lucerne, Lake Zug and Lake Lauerz. The range is in the Schwyzer Alps, and is split between the cantons of Schwyz and Lucerne, although the main summit, named Rigi Kulm, at 1,798 meters above sea level, lies within the canton of Schwyz.\\nThe Rigi Kulm and other areas, such as the resort of Rigi Kaltbad, are served by Europe's oldest mountain railways, the Rigi Railways. The whole area offers many activities such as skiing or sledging in the winter, and hiking in the summer.\\n\\n\"],\n",
       " ['ccl2',\n",
       "  831,\n",
       "  'For the ICAO airport code see Candle Lake Airpark, for the diradical compound see Dichlorocarbene.\\n\\nThe chemokine (C-C motif) ligand 2 (CCL2) is also referred to as monocyte chemoattractant protein 1 (MCP1) and small inducible cytokine A2. CCL2 is a small cytokine that belongs to the CC chemokine family. CCL2  recruits monocytes, memory T cells, and dendritic cells to the sites of inflammation produced by either tissue injury or infection.'],\n",
       " ['trem2',\n",
       "  452,\n",
       "  'Triggering receptor expressed on myeloid cells 2 also known as TREM-2 is a protein that in humans is encoded by the TREM2 gene.'],\n",
       " ['Myelin basic protein',\n",
       "  1088,\n",
       "  'Myelin basic protein (MBP) is a protein believed to be important in the process of myelination of nerves in the nervous system. The myelin sheath is a multi-layered membrane, unique to the nervous system, that functions as an insulator to greatly increase the velocity of axonal impulse conduction. MBP  maintains the correct structure of myelin, interacting with the lipids in the myelin membrane.MBP was initially sequenced in 1971 after isolation from bovine myelin membranes. MBP knockout mice called shiverer mice were subsequently developed and characterized in the early 1980s. Shiverer mice exhibit decreased amounts of CNS myelination and a progressive disorder characterized by tremors, seizures, and early death. The human gene for MBP is on chromosome 18; the protein localizes to the CNS and to various cells of the hematopoietic lineage.\\nThe pool of MBP in the central nervous system is very diverse, with several splice variants being expressed and a large number of post-translational modifications on the protein, which include phosphorylation, methylation, deamidation, and citrullination. These forms differ by the presence or the absence of short (10 to 20 residues) peptides in various internal locations in the sequence. In general, the major form of MBP is a protein of about 18.5 Kd (170 residues).\\nIn melanocytic cell types, MBP gene expression may be regulated by MITF.'],\n",
       " ['mib2',\n",
       "  1858,\n",
       "  'Men in Black II (stylized as MIIB) is a 2002 American science fiction action comedy film directed by Barry Sonnenfeld and written by Robert Gordon and Barry Fanaro. A sequel to Men in Black (1997), which in turn is loosely based on the Marvel Comics series The Men in Black by Lowell Cunningham, the film stars Tommy Lee Jones and Will Smith reprising their roles from the first film, with Lara Flynn Boyle, Johnny Knoxville, Rosario Dawson, Tony Shalhoub and Rip Torn in supporting roles. It was also the final appearance of Torn in the series (although he did make a brief uncredited appearance in Men in Black 3), as he died on July 9, 2019, about a month after MIB International was released.\\nMen in Black II was released worldwide on July 3, 2002, by Columbia Pictures, receiving mixed reviews from critics and grossing $441.8 million against a budget of $140 million. The film was followed by Men in Black 3 in 2012.\\n\\n'],\n",
       " ['RIG-I',\n",
       "  711,\n",
       "  \"The Rigi (or Mount Rigi; also known as Queen of the Mountains) is a mountain massif of the Alps, located in Central Switzerland. The whole massif is almost entirely surrounded by the water of three different bodies of water: Lake Lucerne, Lake Zug and Lake Lauerz. The range is in the Schwyzer Alps, and is split between the cantons of Schwyz and Lucerne, although the main summit, named Rigi Kulm, at 1,798 meters above sea level, lies within the canton of Schwyz.\\nThe Rigi Kulm and other areas, such as the resort of Rigi Kaltbad, are served by Europe's oldest mountain railways, the Rigi Railways. The whole area offers many activities such as skiing or sledging in the winter, and hiking in the summer.\\n\\n\"]]"
      ]
     },
     "execution_count": 9,
     "metadata": {},
     "output_type": "execute_result"
    }
   ],
   "source": [
    "gene = [['ccl2','trem2','MBP','Myelin basic protein','mib2','RIG-I']]\n",
    "def get_count(listgene):\n",
    "    my_data = []\n",
    "    for i in listgene[0]:\n",
    "        try:\n",
    "            print(get_count_abc(i))\n",
    "        except:\n",
    "            try:\n",
    "                print(get_count_base(i))\n",
    "            except:\n",
    "                try:\n",
    "                    print(get_count_word(i))\n",
    "                except:\n",
    "                    print(f'{i} is bad input')\n",
    "    return data\n",
    "get_count(gene)"
   ]
  },
  {
   "cell_type": "code",
   "execution_count": 8,
   "metadata": {},
   "outputs": [
    {
     "data": {
      "text/plain": [
       "[['ccl2',\n",
       "  831,\n",
       "  'For the ICAO airport code see Candle Lake Airpark, for the diradical compound see Dichlorocarbene.\\n\\nThe chemokine (C-C motif) ligand 2 (CCL2) is also referred to as monocyte chemoattractant protein 1 (MCP1) and small inducible cytokine A2. CCL2 is a small cytokine that belongs to the CC chemokine family. CCL2  recruits monocytes, memory T cells, and dendritic cells to the sites of inflammation produced by either tissue injury or infection.'],\n",
       " ['ccl2',\n",
       "  831,\n",
       "  'For the ICAO airport code see Candle Lake Airpark, for the diradical compound see Dichlorocarbene.\\n\\nThe chemokine (C-C motif) ligand 2 (CCL2) is also referred to as monocyte chemoattractant protein 1 (MCP1) and small inducible cytokine A2. CCL2 is a small cytokine that belongs to the CC chemokine family. CCL2  recruits monocytes, memory T cells, and dendritic cells to the sites of inflammation produced by either tissue injury or infection.'],\n",
       " ['trem2',\n",
       "  452,\n",
       "  'Triggering receptor expressed on myeloid cells 2 also known as TREM-2 is a protein that in humans is encoded by the TREM2 gene.'],\n",
       " ['Myelin basic protein',\n",
       "  1088,\n",
       "  'Myelin basic protein (MBP) is a protein believed to be important in the process of myelination of nerves in the nervous system. The myelin sheath is a multi-layered membrane, unique to the nervous system, that functions as an insulator to greatly increase the velocity of axonal impulse conduction. MBP  maintains the correct structure of myelin, interacting with the lipids in the myelin membrane.MBP was initially sequenced in 1971 after isolation from bovine myelin membranes. MBP knockout mice called shiverer mice were subsequently developed and characterized in the early 1980s. Shiverer mice exhibit decreased amounts of CNS myelination and a progressive disorder characterized by tremors, seizures, and early death. The human gene for MBP is on chromosome 18; the protein localizes to the CNS and to various cells of the hematopoietic lineage.\\nThe pool of MBP in the central nervous system is very diverse, with several splice variants being expressed and a large number of post-translational modifications on the protein, which include phosphorylation, methylation, deamidation, and citrullination. These forms differ by the presence or the absence of short (10 to 20 residues) peptides in various internal locations in the sequence. In general, the major form of MBP is a protein of about 18.5 Kd (170 residues).\\nIn melanocytic cell types, MBP gene expression may be regulated by MITF.'],\n",
       " ['mib2',\n",
       "  1858,\n",
       "  'Men in Black II (stylized as MIIB) is a 2002 American science fiction action comedy film directed by Barry Sonnenfeld and written by Robert Gordon and Barry Fanaro. A sequel to Men in Black (1997), which in turn is loosely based on the Marvel Comics series The Men in Black by Lowell Cunningham, the film stars Tommy Lee Jones and Will Smith reprising their roles from the first film, with Lara Flynn Boyle, Johnny Knoxville, Rosario Dawson, Tony Shalhoub and Rip Torn in supporting roles. It was also the final appearance of Torn in the series (although he did make a brief uncredited appearance in Men in Black 3), as he died on July 9, 2019, about a month after MIB International was released.\\nMen in Black II was released worldwide on July 3, 2002, by Columbia Pictures, receiving mixed reviews from critics and grossing $441.8 million against a budget of $140 million. The film was followed by Men in Black 3 in 2012.\\n\\n'],\n",
       " ['RIG-I',\n",
       "  711,\n",
       "  \"The Rigi (or Mount Rigi; also known as Queen of the Mountains) is a mountain massif of the Alps, located in Central Switzerland. The whole massif is almost entirely surrounded by the water of three different bodies of water: Lake Lucerne, Lake Zug and Lake Lauerz. The range is in the Schwyzer Alps, and is split between the cantons of Schwyz and Lucerne, although the main summit, named Rigi Kulm, at 1,798 meters above sea level, lies within the canton of Schwyz.\\nThe Rigi Kulm and other areas, such as the resort of Rigi Kaltbad, are served by Europe's oldest mountain railways, the Rigi Railways. The whole area offers many activities such as skiing or sledging in the winter, and hiking in the summer.\\n\\n\"],\n",
       " ['ccl2',\n",
       "  831,\n",
       "  'For the ICAO airport code see Candle Lake Airpark, for the diradical compound see Dichlorocarbene.\\n\\nThe chemokine (C-C motif) ligand 2 (CCL2) is also referred to as monocyte chemoattractant protein 1 (MCP1) and small inducible cytokine A2. CCL2 is a small cytokine that belongs to the CC chemokine family. CCL2  recruits monocytes, memory T cells, and dendritic cells to the sites of inflammation produced by either tissue injury or infection.'],\n",
       " ['trem2',\n",
       "  452,\n",
       "  'Triggering receptor expressed on myeloid cells 2 also known as TREM-2 is a protein that in humans is encoded by the TREM2 gene.'],\n",
       " ['Myelin basic protein',\n",
       "  1088,\n",
       "  'Myelin basic protein (MBP) is a protein believed to be important in the process of myelination of nerves in the nervous system. The myelin sheath is a multi-layered membrane, unique to the nervous system, that functions as an insulator to greatly increase the velocity of axonal impulse conduction. MBP  maintains the correct structure of myelin, interacting with the lipids in the myelin membrane.MBP was initially sequenced in 1971 after isolation from bovine myelin membranes. MBP knockout mice called shiverer mice were subsequently developed and characterized in the early 1980s. Shiverer mice exhibit decreased amounts of CNS myelination and a progressive disorder characterized by tremors, seizures, and early death. The human gene for MBP is on chromosome 18; the protein localizes to the CNS and to various cells of the hematopoietic lineage.\\nThe pool of MBP in the central nervous system is very diverse, with several splice variants being expressed and a large number of post-translational modifications on the protein, which include phosphorylation, methylation, deamidation, and citrullination. These forms differ by the presence or the absence of short (10 to 20 residues) peptides in various internal locations in the sequence. In general, the major form of MBP is a protein of about 18.5 Kd (170 residues).\\nIn melanocytic cell types, MBP gene expression may be regulated by MITF.'],\n",
       " ['mib2',\n",
       "  1858,\n",
       "  'Men in Black II (stylized as MIIB) is a 2002 American science fiction action comedy film directed by Barry Sonnenfeld and written by Robert Gordon and Barry Fanaro. A sequel to Men in Black (1997), which in turn is loosely based on the Marvel Comics series The Men in Black by Lowell Cunningham, the film stars Tommy Lee Jones and Will Smith reprising their roles from the first film, with Lara Flynn Boyle, Johnny Knoxville, Rosario Dawson, Tony Shalhoub and Rip Torn in supporting roles. It was also the final appearance of Torn in the series (although he did make a brief uncredited appearance in Men in Black 3), as he died on July 9, 2019, about a month after MIB International was released.\\nMen in Black II was released worldwide on July 3, 2002, by Columbia Pictures, receiving mixed reviews from critics and grossing $441.8 million against a budget of $140 million. The film was followed by Men in Black 3 in 2012.\\n\\n'],\n",
       " ['RIG-I',\n",
       "  711,\n",
       "  \"The Rigi (or Mount Rigi; also known as Queen of the Mountains) is a mountain massif of the Alps, located in Central Switzerland. The whole massif is almost entirely surrounded by the water of three different bodies of water: Lake Lucerne, Lake Zug and Lake Lauerz. The range is in the Schwyzer Alps, and is split between the cantons of Schwyz and Lucerne, although the main summit, named Rigi Kulm, at 1,798 meters above sea level, lies within the canton of Schwyz.\\nThe Rigi Kulm and other areas, such as the resort of Rigi Kaltbad, are served by Europe's oldest mountain railways, the Rigi Railways. The whole area offers many activities such as skiing or sledging in the winter, and hiking in the summer.\\n\\n\"]]"
      ]
     },
     "execution_count": 8,
     "metadata": {},
     "output_type": "execute_result"
    }
   ],
   "source": [
    "data"
   ]
  },
  {
   "cell_type": "code",
   "execution_count": 186,
   "metadata": {},
   "outputs": [
    {
     "name": "stdout",
     "output_type": "stream",
     "text": [
      "1037\n"
     ]
    }
   ],
   "source": [
    "txt = wikipedia.page('RIG-I')\n",
    "print(len(txt.content.split(' ')))"
   ]
  },
  {
   "cell_type": "code",
   "execution_count": 189,
   "metadata": {},
   "outputs": [
    {
     "data": {
      "text/html": [
       "<div>\n",
       "<style scoped>\n",
       "    .dataframe tbody tr th:only-of-type {\n",
       "        vertical-align: middle;\n",
       "    }\n",
       "\n",
       "    .dataframe tbody tr th {\n",
       "        vertical-align: top;\n",
       "    }\n",
       "\n",
       "    .dataframe thead th {\n",
       "        text-align: right;\n",
       "    }\n",
       "</style>\n",
       "<table border=\"1\" class=\"dataframe\">\n",
       "  <thead>\n",
       "    <tr style=\"text-align: right;\">\n",
       "      <th></th>\n",
       "      <th>word</th>\n",
       "      <th>word_count</th>\n",
       "      <th>summary</th>\n",
       "    </tr>\n",
       "  </thead>\n",
       "  <tbody>\n",
       "    <tr>\n",
       "      <th>0</th>\n",
       "      <td>ccl2</td>\n",
       "      <td>5663</td>\n",
       "      <td>For the ICAO airport code see Candle Lake Airp...</td>\n",
       "    </tr>\n",
       "    <tr>\n",
       "      <th>1</th>\n",
       "      <td>trem2</td>\n",
       "      <td>3321</td>\n",
       "      <td>Triggering receptor expressed on myeloid cells...</td>\n",
       "    </tr>\n",
       "    <tr>\n",
       "      <th>2</th>\n",
       "      <td>Myelin basic protein</td>\n",
       "      <td>7199</td>\n",
       "      <td>Myelin basic protein (MBP) is a protein believ...</td>\n",
       "    </tr>\n",
       "    <tr>\n",
       "      <th>3</th>\n",
       "      <td>mib2</td>\n",
       "      <td>213</td>\n",
       "      <td>E3 ubiquitin-protein ligase MIB2 is an enzyme ...</td>\n",
       "    </tr>\n",
       "    <tr>\n",
       "      <th>4</th>\n",
       "      <td>RIG-I</td>\n",
       "      <td>6754</td>\n",
       "      <td>RIG-I (retinoic acid-inducible gene I) is a cy...</td>\n",
       "    </tr>\n",
       "    <tr>\n",
       "      <th>5</th>\n",
       "      <td>ccl2</td>\n",
       "      <td>5663</td>\n",
       "      <td>For the ICAO airport code see Candle Lake Airp...</td>\n",
       "    </tr>\n",
       "    <tr>\n",
       "      <th>6</th>\n",
       "      <td>trem2</td>\n",
       "      <td>3321</td>\n",
       "      <td>Triggering receptor expressed on myeloid cells...</td>\n",
       "    </tr>\n",
       "    <tr>\n",
       "      <th>7</th>\n",
       "      <td>Myelin basic protein</td>\n",
       "      <td>7199</td>\n",
       "      <td>Myelin basic protein (MBP) is a protein believ...</td>\n",
       "    </tr>\n",
       "    <tr>\n",
       "      <th>8</th>\n",
       "      <td>mib2</td>\n",
       "      <td>213</td>\n",
       "      <td>E3 ubiquitin-protein ligase MIB2 is an enzyme ...</td>\n",
       "    </tr>\n",
       "    <tr>\n",
       "      <th>9</th>\n",
       "      <td>RIG-I</td>\n",
       "      <td>6754</td>\n",
       "      <td>RIG-I (retinoic acid-inducible gene I) is a cy...</td>\n",
       "    </tr>\n",
       "  </tbody>\n",
       "</table>\n",
       "</div>"
      ],
      "text/plain": [
       "                   word  word_count  \\\n",
       "0                  ccl2        5663   \n",
       "1                 trem2        3321   \n",
       "2  Myelin basic protein        7199   \n",
       "3                  mib2         213   \n",
       "4                 RIG-I        6754   \n",
       "5                  ccl2        5663   \n",
       "6                 trem2        3321   \n",
       "7  Myelin basic protein        7199   \n",
       "8                  mib2         213   \n",
       "9                 RIG-I        6754   \n",
       "\n",
       "                                             summary  \n",
       "0  For the ICAO airport code see Candle Lake Airp...  \n",
       "1  Triggering receptor expressed on myeloid cells...  \n",
       "2  Myelin basic protein (MBP) is a protein believ...  \n",
       "3  E3 ubiquitin-protein ligase MIB2 is an enzyme ...  \n",
       "4  RIG-I (retinoic acid-inducible gene I) is a cy...  \n",
       "5  For the ICAO airport code see Candle Lake Airp...  \n",
       "6  Triggering receptor expressed on myeloid cells...  \n",
       "7  Myelin basic protein (MBP) is a protein believ...  \n",
       "8  E3 ubiquitin-protein ligase MIB2 is an enzyme ...  \n",
       "9  RIG-I (retinoic acid-inducible gene I) is a cy...  "
      ]
     },
     "execution_count": 189,
     "metadata": {},
     "output_type": "execute_result"
    }
   ],
   "source": [
    "df = pd.DataFrame(data)\n",
    "df.columns=['word','word_count','summary']\n",
    "df"
   ]
  },
  {
   "cell_type": "code",
   "execution_count": 167,
   "metadata": {},
   "outputs": [
    {
     "name": "stdout",
     "output_type": "stream",
     "text": [
      "6754\n"
     ]
    }
   ],
   "source": [
    "txt = wikipedia.page('RIG-I')\n",
    "print(len(txt.content))"
   ]
  },
  {
   "cell_type": "code",
   "execution_count": 112,
   "metadata": {},
   "outputs": [
    {
     "data": {
      "text/plain": [
       "7199"
      ]
     },
     "execution_count": 112,
     "metadata": {},
     "output_type": "execute_result"
    }
   ],
   "source": [
    "get_content('Myelin basic protein')"
   ]
  },
  {
   "cell_type": "code",
   "execution_count": 113,
   "metadata": {},
   "outputs": [
    {
     "data": {
      "text/plain": [
       "3321"
      ]
     },
     "execution_count": 113,
     "metadata": {},
     "output_type": "execute_result"
    }
   ],
   "source": [
    "get_content('trem2')"
   ]
  },
  {
   "cell_type": "code",
   "execution_count": 117,
   "metadata": {},
   "outputs": [
    {
     "name": "stdout",
     "output_type": "stream",
     "text": [
      "Triggering receptor expressed on myeloid cells 2 also known as TREM-2 is a protein that in humans is encoded by the TREM2 gene.\n",
      "\n",
      "\n"
     ]
    }
   ],
   "source": [
    "txt = wikipedia.page('trem2')\n",
    "# print(txt.content)\n",
    "print(txt.summary)"
   ]
  },
  {
   "cell_type": "code",
   "execution_count": 185,
   "metadata": {},
   "outputs": [
    {
     "data": {
      "text/plain": [
       "3"
      ]
     },
     "execution_count": 185,
     "metadata": {},
     "output_type": "execute_result"
    }
   ],
   "source": [
    "test = \"one two three\"\n",
    "len(test.split(' '))"
   ]
  }
 ],
 "metadata": {
  "kernelspec": {
   "display_name": "unit4sprint2",
   "language": "python",
   "name": "unit4sprint2"
  },
  "language_info": {
   "codemirror_mode": {
    "name": "ipython",
    "version": 3
   },
   "file_extension": ".py",
   "mimetype": "text/x-python",
   "name": "python",
   "nbconvert_exporter": "python",
   "pygments_lexer": "ipython3",
   "version": "3.7.0"
  }
 },
 "nbformat": 4,
 "nbformat_minor": 4
}
